{
 "cells": [
  {
   "cell_type": "markdown",
   "metadata": {},
   "source": [
    "# Water molecule"
   ]
  },
  {
   "cell_type": "markdown",
   "metadata": {},
   "source": [
    "This notebook demonstrates how to combine `pyscf` with the DMRG implementation in `chemtensor` for approximating the ground state of the water molecule."
   ]
  },
  {
   "cell_type": "code",
   "execution_count": 1,
   "metadata": {},
   "outputs": [],
   "source": [
    "import numpy as np\n",
    "import chemtensor\n",
    "\n",
    "# PySCF (https://pyscf.org/) defines a molecular orbital basis,\n",
    "# computes overlap integrals and runs other computational methods for comparison.\n",
    "import pyscf"
   ]
  },
  {
   "cell_type": "code",
   "execution_count": 2,
   "metadata": {},
   "outputs": [
    {
     "data": {
      "text/plain": [
       "16"
      ]
     },
     "execution_count": 2,
     "metadata": {},
     "output_type": "execute_result"
    }
   ],
   "source": [
    "# maximum number of OpenMP threads (0 indicates that OpenMP is not available)\n",
    "chemtensor.get_max_openmp_threads()"
   ]
  },
  {
   "cell_type": "markdown",
   "metadata": {},
   "source": [
    "### Define the molecule and perform reference calculations"
   ]
  },
  {
   "cell_type": "code",
   "execution_count": 3,
   "metadata": {},
   "outputs": [],
   "source": [
    "h2o_atoms = [\n",
    "    [\"O\", ( 0.,   0.,   0.)],\n",
    "    [\"H\", ( 0.75, 0.47, 0.)],\n",
    "    [\"H\", (-0.75, 0.47, 0.)],\n",
    "]\n",
    "mol = pyscf.M(atom=h2o_atoms, basis=\"sto-3g\")"
   ]
  },
  {
   "cell_type": "code",
   "execution_count": 4,
   "metadata": {},
   "outputs": [
    {
     "name": "stdout",
     "output_type": "stream",
     "text": [
      "converged SCF energy = -74.9307084820999\n"
     ]
    }
   ],
   "source": [
    "# run Hartree-Fock\n",
    "hf = mol.HF().run()"
   ]
  },
  {
   "cell_type": "code",
   "execution_count": 5,
   "metadata": {},
   "outputs": [
    {
     "name": "stdout",
     "output_type": "stream",
     "text": [
      "E(CCSD) = -74.97016403895393  E_corr = -0.03945555685402218\n"
     ]
    },
    {
     "name": "stderr",
     "output_type": "stream",
     "text": [
      "<class 'pyscf.cc.ccsd.CCSD'> does not have attributes  converged\n"
     ]
    },
    {
     "data": {
      "text/plain": [
       "-74.97016403895393"
      ]
     },
     "execution_count": 5,
     "metadata": {},
     "output_type": "execute_result"
    }
   ],
   "source": [
    "# run coupled-cluster with single and double excitations (CCSD), for comparison\n",
    "ccsd = pyscf.cc.CCSD(hf).run()\n",
    "ccsd.e_tot"
   ]
  },
  {
   "cell_type": "code",
   "execution_count": 6,
   "metadata": {},
   "outputs": [
    {
     "data": {
      "text/plain": [
       "-74.97027268959357"
      ]
     },
     "execution_count": 6,
     "metadata": {},
     "output_type": "execute_result"
    }
   ],
   "source": [
    "# run full configuration interaction (FCI)\n",
    "fcisolver = pyscf.fci.FCI(hf)\n",
    "en_fci, _ = fcisolver.kernel()\n",
    "en_fci"
   ]
  },
  {
   "cell_type": "markdown",
   "metadata": {},
   "source": [
    "### Electron overlap integrals"
   ]
  },
  {
   "cell_type": "code",
   "execution_count": 7,
   "metadata": {},
   "outputs": [],
   "source": [
    "# overlap integrals in atomic basis\n",
    "h1_ao  = mol.intor(\"int1e_kin\") + mol.intor(\"int1e_nuc\")\n",
    "eri_ao = mol.intor(\"int2e\")"
   ]
  },
  {
   "cell_type": "code",
   "execution_count": 8,
   "metadata": {},
   "outputs": [
    {
     "name": "stdout",
     "output_type": "stream",
     "text": [
      "(7, 7)\n",
      "(7, 7, 7, 7)\n"
     ]
    }
   ],
   "source": [
    "# transform to molecular orbital basis\n",
    "h1_mo = np.einsum(\"pi,pq,qj->ij\", hf.mo_coeff, h1_ao, hf.mo_coeff)\n",
    "eri_mo = pyscf.ao2mo.kernel(eri_ao, hf.mo_coeff)\n",
    "print(h1_mo.shape)\n",
    "print(eri_mo.shape)"
   ]
  },
  {
   "cell_type": "code",
   "execution_count": 9,
   "metadata": {},
   "outputs": [],
   "source": [
    "# convert to physicists' convention\n",
    "tkin = h1_mo\n",
    "vint = np.transpose(eri_mo, (0, 2, 1, 3))"
   ]
  },
  {
   "cell_type": "markdown",
   "metadata": {},
   "source": [
    "### Construct Hamiltonian as MPO and run two-site DMRG"
   ]
  },
  {
   "cell_type": "code",
   "execution_count": 10,
   "metadata": {},
   "outputs": [
    {
     "data": {
      "text/plain": [
       "[1, 36, 58, 96, 96, 58, 36, 1]"
      ]
     },
     "execution_count": 10,
     "metadata": {},
     "output_type": "execute_result"
    }
   ],
   "source": [
    "hamiltonian = chemtensor.construct_spin_molecular_hamiltonian_mpo(tkin, vint)\n",
    "# virtual bond dimensions\n",
    "hamiltonian.bond_dims"
   ]
  },
  {
   "cell_type": "code",
   "execution_count": 11,
   "metadata": {},
   "outputs": [
    {
     "data": {
      "text/plain": [
       "[(0, 0), (1, -1), (1, 1), (2, 0)]"
      ]
     },
     "execution_count": 11,
     "metadata": {},
     "output_type": "execute_result"
    }
   ],
   "source": [
    "# local physical quantum numbers (number of electrons and spin)\n",
    "[chemtensor.decode_quantum_number_pair(qnum) for qnum in hamiltonian.qsite]"
   ]
  },
  {
   "cell_type": "code",
   "execution_count": 12,
   "metadata": {},
   "outputs": [],
   "source": [
    "# overall quantum number sector of quantum state (number of electrons and spin)\n",
    "q_pnum = 10\n",
    "q_spin = 0\n",
    "qnum_sector = chemtensor.encode_quantum_number_pair(q_pnum, q_spin)"
   ]
  },
  {
   "cell_type": "code",
   "execution_count": 13,
   "metadata": {},
   "outputs": [],
   "source": [
    "# run two-site DMRG\n",
    "psi, en_sweeps, entropy = chemtensor.dmrg(hamiltonian, num_sweeps=6, maxiter_lanczos=25,\n",
    "                                          tol_split=1e-9, qnum_sector=qnum_sector)"
   ]
  },
  {
   "cell_type": "markdown",
   "metadata": {},
   "source": [
    "### Evaluate results"
   ]
  },
  {
   "cell_type": "code",
   "execution_count": 14,
   "metadata": {},
   "outputs": [
    {
     "data": {
      "text/plain": [
       "[1, 4, 13, 27, 19, 16, 4, 1]"
      ]
     },
     "execution_count": 14,
     "metadata": {},
     "output_type": "execute_result"
    }
   ],
   "source": [
    "# virtual bond dimensions of optimized MPS\n",
    "psi.bond_dims"
   ]
  },
  {
   "cell_type": "code",
   "execution_count": 15,
   "metadata": {},
   "outputs": [
    {
     "data": {
      "text/plain": [
       "[-84.88903443532217,\n",
       " -84.88903443537987,\n",
       " -84.88903443537988,\n",
       " -84.88903443537988,\n",
       " -84.8890344353799,\n",
       " -84.88903443537978]"
      ]
     },
     "execution_count": 15,
     "metadata": {},
     "output_type": "execute_result"
    }
   ],
   "source": [
    "# energy after each DMRG sweep\n",
    "en_sweeps"
   ]
  },
  {
   "cell_type": "code",
   "execution_count": 16,
   "metadata": {},
   "outputs": [
    {
     "data": {
      "text/plain": [
       "-74.97027263503881"
      ]
     },
     "execution_count": 16,
     "metadata": {},
     "output_type": "execute_result"
    }
   ],
   "source": [
    "# add nuclear repulsion energy\n",
    "en_dmrg = en_sweeps[-1] + hf.energy_nuc()\n",
    "en_dmrg"
   ]
  },
  {
   "cell_type": "code",
   "execution_count": 17,
   "metadata": {},
   "outputs": [
    {
     "data": {
      "text/plain": [
       "0.00010859608488544836"
      ]
     },
     "execution_count": 17,
     "metadata": {},
     "output_type": "execute_result"
    }
   ],
   "source": [
    "# difference to CCSD energy\n",
    "ccsd.e_tot - en_dmrg"
   ]
  },
  {
   "cell_type": "code",
   "execution_count": 18,
   "metadata": {},
   "outputs": [
    {
     "data": {
      "text/plain": [
       "5.455476070892473e-08"
      ]
     },
     "execution_count": 18,
     "metadata": {},
     "output_type": "execute_result"
    }
   ],
   "source": [
    "# difference to FCI energy\n",
    "en_dmrg - en_fci"
   ]
  }
 ],
 "metadata": {
  "kernelspec": {
   "display_name": "Python 3",
   "language": "python",
   "name": "python3"
  },
  "language_info": {
   "codemirror_mode": {
    "name": "ipython",
    "version": 3
   },
   "file_extension": ".py",
   "mimetype": "text/x-python",
   "name": "python",
   "nbconvert_exporter": "python",
   "pygments_lexer": "ipython3",
   "version": "3.12.3"
  }
 },
 "nbformat": 4,
 "nbformat_minor": 2
}
