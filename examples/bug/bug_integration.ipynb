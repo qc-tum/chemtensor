{
 "cells": [
  {
   "cell_type": "markdown",
   "metadata": {},
   "source": [
    "# Basis-Update and Galerkin (BUG) rank-adaptive integration of a tree tensor network state"
   ]
  },
  {
   "cell_type": "markdown",
   "metadata": {},
   "source": [
    "This notebook performs a Basis-Update and Galerkin (BUG) rank-adaptive integration of a tree tensor network state. The implementation in `chemtensor` is based on the publication:\n",
    "\n",
    "Gianluca Ceruti, Christian Lubich, Dominik Sulz  \n",
    "Rank-adaptive time integration of tree tensor networks  \n",
    "[SIAM J. Numer. Anal. 61, 194-222 (2023)](https://doi.org/10.1137/22M1473790) ([arXiv:2201.10291](https://arxiv.org/abs/2201.10291))"
   ]
  },
  {
   "cell_type": "code",
   "execution_count": 1,
   "metadata": {},
   "outputs": [],
   "source": [
    "import numpy as np\n",
    "from scipy.linalg import expm\n",
    "import matplotlib.pyplot as plt\n",
    "import chemtensor"
   ]
  },
  {
   "cell_type": "code",
   "execution_count": 2,
   "metadata": {},
   "outputs": [
    {
     "data": {
      "text/plain": [
       "16"
      ]
     },
     "execution_count": 2,
     "metadata": {},
     "output_type": "execute_result"
    }
   ],
   "source": [
    "# maximum number of OpenMP threads (0 indicates that OpenMP is not available)\n",
    "chemtensor.get_max_openmp_threads()"
   ]
  },
  {
   "cell_type": "markdown",
   "metadata": {},
   "source": [
    "### Construct a Hamiltonian as TTNO from a list of operator chains"
   ]
  },
  {
   "cell_type": "code",
   "execution_count": 3,
   "metadata": {},
   "outputs": [],
   "source": [
    "# number of physical lattice sites\n",
    "nsites_physical = 6"
   ]
  },
  {
   "cell_type": "code",
   "execution_count": 4,
   "metadata": {},
   "outputs": [],
   "source": [
    "# physical quantum numbers at each site\n",
    "qsite = [1, 0, -1]"
   ]
  },
  {
   "cell_type": "code",
   "execution_count": 5,
   "metadata": {},
   "outputs": [],
   "source": [
    "# local operators\n",
    "sp = np.array([[0., 1., 0.], [0., 0., 1.], [0., 0., 0.]])\n",
    "sm = np.array([[0., 0., 0.], [1., 0., 0.], [0., 1., 0.]])\n",
    "sz = np.diag([ 1.,  0., -1.])\n",
    "nb = np.diag([ 1.,  0.,  1.])\n",
    "\n",
    "# operator map; the operator identifiers (OIDs) are the indices for this lookup-table\n",
    "opmap = [np.identity(3), sp, sm, sz, nb]"
   ]
  },
  {
   "cell_type": "code",
   "execution_count": 6,
   "metadata": {},
   "outputs": [],
   "source": [
    "def crandn(size=None, rng: np.random.Generator=None):\n",
    "    \"\"\"\n",
    "    Draw random samples from the standard complex normal (Gaussian) distribution.\n",
    "    \"\"\"\n",
    "    if rng is None:\n",
    "        rng = np.random.default_rng()\n",
    "    # 1/sqrt(2) is a normalization factor\n",
    "    return (rng.normal(size=size) + 1j*rng.normal(size=size)) / np.sqrt(2)"
   ]
  },
  {
   "cell_type": "code",
   "execution_count": 7,
   "metadata": {},
   "outputs": [],
   "source": [
    "rng = np.random.default_rng(42)\n",
    "\n",
    "# random kinetic coefficients\n",
    "tkin = crandn(size=nsites_physical-1, rng=rng)\n",
    "\n",
    "# random interaction coefficients\n",
    "vint = list(rng.standard_normal(5))\n",
    "\n",
    "# coefficient map; first two entries must always be 0 and 1;\n",
    "# the coefficient identifiers (CIDs) are the indices for this lookup-table\n",
    "coeffmap = [0, 1] + [c if orig else c.conj() for c in tkin for orig in [True, False]] + vint"
   ]
  },
  {
   "cell_type": "code",
   "execution_count": 8,
   "metadata": {},
   "outputs": [],
   "source": [
    "# operator chains, containing operator identifiers (OIDs) and coefficient identifiers (CIDs)\n",
    "# referencing 'opmap' and 'coeffmap', respectively\n",
    "chains = (\n",
    "    [chemtensor.OpChain([1, 2], [0,  1, 0], 2 + 2*i,     istart=i) for i in range(nsites_physical - 1)] +\n",
    "    [chemtensor.OpChain([2, 1], [0, -1, 0], 2 + 2*i + 1, istart=i) for i in range(nsites_physical - 1)] +\n",
    "    [chemtensor.OpChain(rng.choice([0, 3, 4], size=4), [0, 0, 0, 0, 0],\n",
    "                        2 + 2*len(tkin) + i,\n",
    "                        istart=rng.integers(0, nsites_physical - 3)) for i in range(len(vint))])"
   ]
  },
  {
   "cell_type": "markdown",
   "metadata": {},
   "source": [
    "In general, the integer quantum numbers are interleaved with the local operators to implement abelian symmetries (like particle number conservation). In practice, the quantum numbers endow the TTNO tensors with a sparsity pattern, handled internally by `chemtensor`."
   ]
  },
  {
   "cell_type": "markdown",
   "metadata": {},
   "source": [
    "To construct the TTNO, we need to define its tree topology."
   ]
  },
  {
   "cell_type": "code",
   "execution_count": 9,
   "metadata": {},
   "outputs": [],
   "source": [
    "# tree topology:\n",
    "#\n",
    "#     ╭──── 7 ────╮\n",
    "#    ╱      │      ╲\n",
    "#   ╱       │       ╲\n",
    "#  0        3        6\n",
    "#          ╱ ╲      ╱ ╲\n",
    "#         ╱   ╲    ╱   ╲\n",
    "#        1     2  4     5\n",
    "#\n",
    "\n",
    "tree_neighbors = [\n",
    "    [7],        # neighbors of site 0\n",
    "    [3],        # neighbors of site 1\n",
    "    [3],        # neighbors of site 2\n",
    "    [1, 2, 7],  # neighbors of site 3\n",
    "    [6],        # neighbors of site 4\n",
    "    [6],        # neighbors of site 5\n",
    "    [4, 5, 7],  # neighbors of site 6\n",
    "    [0, 3, 6],  # neighbors of site 7\n",
    "]"
   ]
  },
  {
   "cell_type": "markdown",
   "metadata": {},
   "source": [
    "Sites 0, ..., 5 are physical sites, and the remaining sites 6, 7 are branching sites (with dummy physical legs of dimension 1)."
   ]
  },
  {
   "cell_type": "code",
   "execution_count": 10,
   "metadata": {},
   "outputs": [],
   "source": [
    "hamiltonian = chemtensor.construct_ttno_from_opchains(\"double complex\", nsites_physical, tree_neighbors,\n",
    "                                                      chains, opmap, coeffmap, qsite)"
   ]
  },
  {
   "cell_type": "code",
   "execution_count": 11,
   "metadata": {},
   "outputs": [
    {
     "data": {
      "text/plain": [
       "6"
      ]
     },
     "execution_count": 11,
     "metadata": {},
     "output_type": "execute_result"
    }
   ],
   "source": [
    "# number of physical sites\n",
    "hamiltonian.nsites_physical"
   ]
  },
  {
   "cell_type": "code",
   "execution_count": 12,
   "metadata": {},
   "outputs": [
    {
     "data": {
      "text/plain": [
       "2"
      ]
     },
     "execution_count": 12,
     "metadata": {},
     "output_type": "execute_result"
    }
   ],
   "source": [
    "# number of branching sites (in this example, sites 6 and 7)\n",
    "hamiltonian.nsites_branching"
   ]
  },
  {
   "cell_type": "code",
   "execution_count": 13,
   "metadata": {},
   "outputs": [
    {
     "data": {
      "text/plain": [
       "9"
      ]
     },
     "execution_count": 13,
     "metadata": {},
     "output_type": "execute_result"
    }
   ],
   "source": [
    "# show virtual bond dimension between sites 3 and 7\n",
    "hamiltonian.bond_dim(3, 7)"
   ]
  },
  {
   "cell_type": "code",
   "execution_count": 14,
   "metadata": {},
   "outputs": [
    {
     "data": {
      "text/plain": [
       "5"
      ]
     },
     "execution_count": 14,
     "metadata": {},
     "output_type": "execute_result"
    }
   ],
   "source": [
    "# show virtual bond dimension between sites 5 and 6\n",
    "hamiltonian.bond_dim(5, 6)"
   ]
  },
  {
   "cell_type": "code",
   "execution_count": 15,
   "metadata": {},
   "outputs": [
    {
     "data": {
      "text/plain": [
       "(729, 729)"
      ]
     },
     "execution_count": 15,
     "metadata": {},
     "output_type": "execute_result"
    }
   ],
   "source": [
    "# overall matrix representation of the TTNO\n",
    "hamiltonian_mat = hamiltonian.to_matrix()\n",
    "hamiltonian_mat.shape"
   ]
  },
  {
   "cell_type": "code",
   "execution_count": 16,
   "metadata": {},
   "outputs": [
    {
     "data": {
      "text/plain": [
       "0.0"
      ]
     },
     "execution_count": 16,
     "metadata": {},
     "output_type": "execute_result"
    }
   ],
   "source": [
    "# check Hermitian symmetry\n",
    "np.linalg.norm(hamiltonian_mat.conj().T - hamiltonian_mat)"
   ]
  },
  {
   "cell_type": "markdown",
   "metadata": {},
   "source": [
    "### Construct a random initial TTNS"
   ]
  },
  {
   "cell_type": "code",
   "execution_count": 17,
   "metadata": {},
   "outputs": [],
   "source": [
    "# quantum numbers for all sites (physical and branching)\n",
    "qsites = hamiltonian.nsites_physical * (qsite,) + hamiltonian.nsites_branching * ([0],)"
   ]
  },
  {
   "cell_type": "code",
   "execution_count": 18,
   "metadata": {},
   "outputs": [],
   "source": [
    "# logical overall quantum number sector of the state\n",
    "qnum_sector = 2"
   ]
  },
  {
   "cell_type": "code",
   "execution_count": 19,
   "metadata": {},
   "outputs": [],
   "source": [
    "state = chemtensor.construct_random_ttns(\"double complex\", nsites_physical, tree_neighbors,\n",
    "                                         qsites, qnum_sector, max_vdim=80, rng_seed=42, normalize=True)"
   ]
  },
  {
   "cell_type": "code",
   "execution_count": 20,
   "metadata": {},
   "outputs": [
    {
     "data": {
      "text/plain": [
       "27"
      ]
     },
     "execution_count": 20,
     "metadata": {},
     "output_type": "execute_result"
    }
   ],
   "source": [
    "# maximum virtual bond dimension\n",
    "state.max_bond_dim"
   ]
  },
  {
   "cell_type": "code",
   "execution_count": 21,
   "metadata": {},
   "outputs": [
    {
     "data": {
      "text/plain": [
       "27"
      ]
     },
     "execution_count": 21,
     "metadata": {},
     "output_type": "execute_result"
    }
   ],
   "source": [
    "# show virtual bond dimension between sites 3 and 7\n",
    "state.bond_dim(3, 7)"
   ]
  },
  {
   "cell_type": "code",
   "execution_count": 22,
   "metadata": {},
   "outputs": [
    {
     "data": {
      "text/plain": [
       "3"
      ]
     },
     "execution_count": 22,
     "metadata": {},
     "output_type": "execute_result"
    }
   ],
   "source": [
    "# show virtual bond dimension between sites 0 and 7\n",
    "state.bond_dim(0, 7)"
   ]
  },
  {
   "cell_type": "code",
   "execution_count": 23,
   "metadata": {},
   "outputs": [],
   "source": [
    "# initial state as vector\n",
    "state_init_vec = state.to_statevector()"
   ]
  },
  {
   "cell_type": "code",
   "execution_count": 24,
   "metadata": {},
   "outputs": [
    {
     "data": {
      "text/plain": [
       "0.9999999999999999"
      ]
     },
     "execution_count": 24,
     "metadata": {},
     "output_type": "execute_result"
    }
   ],
   "source": [
    "# should be normalized\n",
    "np.linalg.norm(state_init_vec)"
   ]
  },
  {
   "cell_type": "code",
   "execution_count": 25,
   "metadata": {},
   "outputs": [
    {
     "data": {
      "image/png": "[encoded data removed]",
      "text/plain": [
       "<Figure size 640x480 with 1 Axes>"
      ]
     },
     "metadata": {},
     "output_type": "display_data"
    }
   ],
   "source": [
    "# visualize initial state\n",
    "plt.plot(state_init_vec.real, label=\"Re\")\n",
    "plt.plot(state_init_vec.imag, label=\"Im\")\n",
    "plt.xlabel(r\"$j$\")\n",
    "plt.ylabel(r\"$\\psi_j$\")\n",
    "plt.title(\"initial state\")\n",
    "plt.legend()\n",
    "plt.show()"
   ]
  },
  {
   "cell_type": "markdown",
   "metadata": {},
   "source": [
    "### Perform BUG time integration"
   ]
  },
  {
   "cell_type": "markdown",
   "metadata": {},
   "source": [
    "The BUG integrator updates the `state` in-place."
   ]
  },
  {
   "cell_type": "code",
   "execution_count": 26,
   "metadata": {},
   "outputs": [],
   "source": [
    "# integration prefactor\n",
    "prefactor = -0.1 - 0.8j\n",
    "# time step\n",
    "dt = 0.1\n",
    "# number of time steps\n",
    "nsteps = 5\n",
    "# designated root node\n",
    "i_root = 7\n",
    "\n",
    "for i in range(nsteps):\n",
    "    chemtensor.bug_tree_time_step(state, hamiltonian, i_root, prefactor, dt, rel_tol_compress=1e-2)"
   ]
  },
  {
   "cell_type": "code",
   "execution_count": 27,
   "metadata": {},
   "outputs": [
    {
     "data": {
      "text/plain": [
       "2"
      ]
     },
     "execution_count": 27,
     "metadata": {},
     "output_type": "execute_result"
    }
   ],
   "source": [
    "# quantum number sector remains unchanged\n",
    "state.quantum_number_sector"
   ]
  },
  {
   "cell_type": "code",
   "execution_count": 28,
   "metadata": {},
   "outputs": [
    {
     "data": {
      "text/plain": [
       "14"
      ]
     },
     "execution_count": 28,
     "metadata": {},
     "output_type": "execute_result"
    }
   ],
   "source": [
    "# maximum bond dimension after time integration\n",
    "state.max_bond_dim"
   ]
  },
  {
   "cell_type": "code",
   "execution_count": 29,
   "metadata": {},
   "outputs": [],
   "source": [
    "# state vector after integration\n",
    "state_vec = state.to_statevector()"
   ]
  },
  {
   "cell_type": "code",
   "execution_count": 30,
   "metadata": {},
   "outputs": [
    {
     "data": {
      "text/plain": [
       "0.9851658533730621"
      ]
     },
     "execution_count": 30,
     "metadata": {},
     "output_type": "execute_result"
    }
   ],
   "source": [
    "# state is not normalized due to complex integration prefactor\n",
    "np.linalg.norm(state_vec)"
   ]
  },
  {
   "cell_type": "code",
   "execution_count": 31,
   "metadata": {},
   "outputs": [
    {
     "data": {
      "image/png": "[encoded data removed]",
      "text/plain": [
       "<Figure size 640x480 with 1 Axes>"
      ]
     },
     "metadata": {},
     "output_type": "display_data"
    }
   ],
   "source": [
    "# visualize time-evolved state\n",
    "plt.plot(state_vec.real, label=\"Re\")\n",
    "plt.plot(state_vec.imag, label=\"Im\")\n",
    "plt.xlabel(r\"$j$\")\n",
    "plt.ylabel(r\"$\\psi_j(t)$\")\n",
    "plt.title(f\"state after {nsteps} time steps dt = {dt}\")\n",
    "plt.legend()\n",
    "plt.show()"
   ]
  },
  {
   "cell_type": "code",
   "execution_count": 32,
   "metadata": {},
   "outputs": [],
   "source": [
    "# reference solution\n",
    "tmax = nsteps*dt  # overall simulation time\n",
    "state_ref = expm(prefactor * tmax * hamiltonian_mat) @ state_init_vec"
   ]
  },
  {
   "cell_type": "code",
   "execution_count": 33,
   "metadata": {},
   "outputs": [
    {
     "data": {
      "image/png": "[encoded data removed]",
      "text/plain": [
       "<Figure size 640x480 with 1 Axes>"
      ]
     },
     "metadata": {},
     "output_type": "display_data"
    }
   ],
   "source": [
    "# visualize reference solution\n",
    "plt.plot(state_ref.real, label=\"Re\")\n",
    "plt.plot(state_ref.imag, label=\"Im\")\n",
    "plt.xlabel(r\"$j$\")\n",
    "plt.ylabel(r\"$\\psi_j(t)$\")\n",
    "plt.title(f\"reference time-evolved state at t = {tmax}\")\n",
    "plt.legend()\n",
    "plt.show()"
   ]
  },
  {
   "cell_type": "code",
   "execution_count": 34,
   "metadata": {},
   "outputs": [
    {
     "name": "stdout",
     "output_type": "stream",
     "text": [
      "BUG integration error: 9.827381973754304e-05\n"
     ]
    }
   ],
   "source": [
    "print(\"BUG integration error:\",  np.linalg.norm(state_vec - state_ref))"
   ]
  }
 ],
 "metadata": {
  "kernelspec": {
   "display_name": "Python 3",
   "language": "python",
   "name": "python3"
  },
  "language_info": {
   "codemirror_mode": {
    "name": "ipython",
    "version": 3
   },
   "file_extension": ".py",
   "mimetype": "text/x-python",
   "name": "python",
   "nbconvert_exporter": "python",
   "pygments_lexer": "ipython3",
   "version": "3.12.3"
  }
 },
 "nbformat": 4,
 "nbformat_minor": 2
}
